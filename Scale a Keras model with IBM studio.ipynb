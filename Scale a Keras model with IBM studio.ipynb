{
    "nbformat_minor": 2, 
    "cells": [
        {
            "source": "# Zero to Singularity: Create, Tune, Deploy and Scale a Deep Neural Network in 90 Minutes\n\nThis notebook is part of a masterclass held at IBM Think on 13th of February 2019 in San Fransisco\nIn this exercise you will train a Keras DeepLearning model running on top of TensorFlow. \n\nNote: For sake of bringing the training runtime down we've done two things\n\n1) Used a softmax regression model over a Convolutional Neural Network \n\n2) Trained only for one epoch instead of 20\n\nThis leads to approx. 5% less accuracy\n\n\nAuthors\n\nRomeo Kienzler - Chief Data Scientist, IBM Watson IoT\n\nKrishnamurthy Arthanarisamy - Architect, Watson Machine Learning Software Lab, Bangalore\n\n\n# Prerequisites\n\nPlease make sure the currently installed version of Keras and Tensorflow are matching the requirememts, if not, please run the two PIP commands below in order to re-install. Please restart the kernal before proceeding, please re-check if the versions are matching.", 
            "cell_type": "markdown", 
            "metadata": {}
        }, 
        {
            "source": "import keras\nprint('Current:\\t', keras.__version__)\nprint('Expected:\\t 2.1.3')", 
            "cell_type": "code", 
            "metadata": {}, 
            "outputs": [], 
            "execution_count": null
        }, 
        {
            "source": "import tensorflow as tf\nprint('Current:\\t', tf.__version__)\nprint('Expected:\\t 1.5.0')", 
            "cell_type": "code", 
            "metadata": {}, 
            "outputs": [], 
            "execution_count": null
        }, 
        {
            "source": "# IMPORTANT !!!\n\nIf you ran the two lines below please restart your kernel (Kernel->Restart & Clear Output)", 
            "cell_type": "markdown", 
            "metadata": {}
        }, 
        {
            "source": "!pip install keras==2.1.3", 
            "cell_type": "code", 
            "metadata": {}, 
            "outputs": [], 
            "execution_count": null
        }, 
        {
            "source": "!pip install tensorflow==1.5.0", 
            "cell_type": "code", 
            "metadata": {}, 
            "outputs": [], 
            "execution_count": null
        }, 
        {
            "source": "# 1.0 Train a MNIST digits recognition model\nWe start with some global parameters and imports", 
            "cell_type": "markdown", 
            "metadata": {}
        }, 
        {
            "source": "#some learners constantly reported 502 errors in Watson Studio. \n#This is due to the limited resources in the free tier and the heavy resource consumption of Keras.\n#This is a workaround to limit resource consumption\n\nfrom keras import backend as K\n\nK.set_session(K.tf.Session(config=K.tf.ConfigProto(intra_op_parallelism_threads=1, inter_op_parallelism_threads=1)))", 
            "cell_type": "code", 
            "metadata": {}, 
            "outputs": [], 
            "execution_count": null
        }, 
        {
            "source": "import keras\nfrom keras.models import Model\nfrom keras.layers import Input, Dense\nfrom keras.layers import Dense, Dropout, Flatten\nfrom keras.layers import Conv2D, MaxPooling2D\nfrom keras.datasets import mnist\nfrom keras.models import Sequential, load_model\nfrom keras.optimizers import RMSprop\nfrom keras.layers import LeakyReLU\n\nfrom keras import backend as K\nimport numpy as np", 
            "cell_type": "code", 
            "metadata": {}, 
            "outputs": [], 
            "execution_count": null
        }, 
        {
            "source": "batch_size = 128\nnum_classes = 10\nepochs = 1\n\n# the data, split between train and test sets\n(x_train, y_train), (x_test, y_test) = mnist.load_data()\n\nx_train = x_train.reshape(60000, 784)\nx_test = x_test.reshape(10000, 784)\nx_train = x_train.astype('float32')\nx_test = x_test.astype('float32')\nx_train /= 255\nx_test /= 255\n\n\n# convert class vectors to binary class matrices\ny_train = keras.utils.to_categorical(y_train, num_classes)\ny_test = keras.utils.to_categorical(y_test, num_classes)\n", 
            "cell_type": "code", 
            "metadata": {}, 
            "outputs": [], 
            "execution_count": null
        }, 
        {
            "source": "# Training a simple model\nFirst we'll train a simple softmax regressor and check what accuracy we get", 
            "cell_type": "markdown", 
            "metadata": {}
        }, 
        {
            "source": "model = Sequential()\nmodel.add(Dense(512, input_shape=(784,)))\nmodel.add(Dense(num_classes, activation='softmax'))\n\n\n\nmodel.compile(loss='categorical_crossentropy',\n        optimizer='rmsprop',\n        metrics=['accuracy'])\n\nmodel.fit(x_train, y_train,\n        batch_size=batch_size,\n        epochs=epochs,\n        verbose=1,\n        validation_data=(x_test, y_test))\n        \nscore = model.evaluate(x_test, y_test, verbose=0)\n\nprint('\\n')\nprint('Accuracy:',score[1])", 
            "cell_type": "code", 
            "metadata": {}, 
            "outputs": [], 
            "execution_count": null
        }, 
        {
            "source": "#some cleanup from the previous run\n!rm -f ker_*\n!rm -f my_best_model.tgz", 
            "cell_type": "code", 
            "metadata": {}, 
            "outputs": [], 
            "execution_count": null
        }, 
        {
            "source": "You should see an accuracy of approximately 90%. Now lets define a hyper-parameter grid including different activation functions and gradient descent optimizers. We\u2019re optimizing over the grid using grid search (nested for loops) and store each model variant in a file. We then decide for the best one in order to deploy to IBM Watson Machine Learning.", 
            "cell_type": "markdown", 
            "metadata": {}
        }, 
        {
            "source": "#define parameter grid\n\nactivation_functions_layer_1 = ['sigmoid','tanh','relu']\nopimizers = ['rmsprop','adagrad','adadelta']\n\n#optimize over parameter grid (grid search)\n\nfor activation_function_layer_1 in activation_functions_layer_1:\n    for opimizer in opimizers:\n        \n        model = Sequential()\n        model.add(Dense(512, activation = activation_function_layer_1, input_shape=(784,)))\n        model.add(Dense(num_classes, activation='softmax'))\n\n\n\n        model.compile(loss='categorical_crossentropy',\n              optimizer=opimizer,\n              metrics=['accuracy'])\n\n        model.fit(x_train, y_train,\n              batch_size=batch_size,\n              epochs=epochs,\n              verbose=1,\n              validation_data=(x_test, y_test))\n        \n        score = model.evaluate(x_test, y_test, verbose=0)\n        save_path = \"ker_func_mnist_model_2.%s.%s.%s.h5\" % (activation_function_layer_1,opimizer,score[1])\n        model.save(save_path)", 
            "cell_type": "code", 
            "metadata": {}, 
            "outputs": [], 
            "execution_count": null
        }, 
        {
            "source": "# Model evaluation\nLet's have a look at all the models and see which hyper parameter configuration was the best one. You should see that relu and rmsprop gives you > 95% of accuracy on the validation set", 
            "cell_type": "markdown", 
            "metadata": {}
        }, 
        {
            "source": "ls -ltr ker_*", 
            "cell_type": "code", 
            "metadata": {}, 
            "outputs": [], 
            "execution_count": null
        }, 
        {
            "source": "Now it's time to create a tarball out of your favorite model, please replace the name of your favorite model H5 file with \u201cplease-put-me-here\u201d", 
            "cell_type": "markdown", 
            "metadata": {}
        }, 
        {
            "source": "!tar -zcvf my_best_model.tgz please-put-me-here.h5", 
            "cell_type": "code", 
            "metadata": {}, 
            "outputs": [], 
            "execution_count": null
        }, 
        {
            "source": "## 2.0 Save the trained model to WML Repository", 
            "cell_type": "markdown", 
            "metadata": {}
        }, 
        {
            "source": "We will use `watson_machine_learning_client` python library to save the trained model to WML Repository, to deploy the saved model and to make predictions using the deployed model.</br>\n\n\n`watson_machine_learning_client` can be installed using the following `pip` command in case you are running outside Watson Studio:\n\n`!pip install watson-machine-learning-client --upgrade`", 
            "cell_type": "markdown", 
            "metadata": {}
        }, 
        {
            "source": "from watson_machine_learning_client import WatsonMachineLearningAPIClient", 
            "cell_type": "code", 
            "metadata": {}, 
            "outputs": [], 
            "execution_count": null
        }, 
        {
            "source": "Please go to https://cloud.ibm.com/,  login, click on the \u201cCreate Resource\u201d button. From the \u201cAI\u201d category, please choose \u201cMachine Learning\u201d. Wait for the \u201cCreate\u201d button to activate and click on \u201cCreate\u201d. Click on \u201cService Credentials\u201d, then \u201cNew Credential\u201d, then \u201cAdd\u201d. From the new entry in the table, under \u201cACTIONS\u201d, please click on \u201cView Credentials\u201d. Please copy the whole JSON object to your clipboard. Now just paste the JSON object below so that you are able to use your personal instance of Watson Machine Learning.", 
            "cell_type": "markdown", 
            "metadata": {}
        }, 
        {
            "source": "wml_credentials={\n  \"apikey\": \"hZ00Ov4tpXF5rzRUEyObEC7J1f_4Cvu8mkoYRh9AtHdL\",\n  \"iam_apikey_description\": \"Auto generated apikey during resource-key operation for Instance - crn:v1:bluemix:public:pm-20:us-south:a/4b5f219cdaee498f9dac672a8966c254:708f4e4e-ffa6-4be2-8427-7a0a73ae6949::\",\n  \"iam_apikey_name\": \"auto-generated-apikey-ae8c30a4-8f83-44e2-98b5-9461e847b11f\",\n  \"iam_role_crn\": \"crn:v1:bluemix:public:iam::::serviceRole:Writer\",\n  \"iam_serviceid_crn\": \"crn:v1:bluemix:public:iam-identity::a/4b5f219cdaee498f9dac672a8966c254::serviceid:ServiceId-c6a23b0b-5e7d-47b0-a3e0-6a2b51aa1817\",\n  \"instance_id\": \"708f4e4e-ffa6-4be2-8427-7a0a73ae6949\",\n  \"password\": \"\",\n  \"url\": \"https://us-south.ml.cloud.ibm.com\",\n  \"username\": \"ae8c30a4-8f83-44e2-98b5-9461e847b11f\"\n}", 
            "cell_type": "code", 
            "metadata": {}, 
            "outputs": [], 
            "execution_count": null
        }, 
        {
            "source": "client = WatsonMachineLearningAPIClient(wml_credentials)", 
            "cell_type": "code", 
            "metadata": {}, 
            "outputs": [], 
            "execution_count": null
        }, 
        {
            "source": "model_props = {client.repository.ModelMetaNames.AUTHOR_NAME: \"IBM\", \n               client.repository.ModelMetaNames.AUTHOR_EMAIL: \"ibm@ibm.com\", \n               client.repository.ModelMetaNames.NAME: \"KK3_clt_keras_mnist\",\n               client.repository.ModelMetaNames.FRAMEWORK_NAME: \"tensorflow\",\n               client.repository.ModelMetaNames.FRAMEWORK_VERSION: \"1.5\" ,\n               client.repository.ModelMetaNames.FRAMEWORK_LIBRARIES: [{\"name\": \"keras\", \"version\": \"2.1.3\"}]\n              }", 
            "cell_type": "code", 
            "metadata": {}, 
            "outputs": [], 
            "execution_count": null
        }, 
        {
            "source": "published_model = client.repository.store_model(model=\"my_best_model.tgz\", meta_props=model_props)\n", 
            "cell_type": "code", 
            "metadata": {}, 
            "outputs": [], 
            "execution_count": null
        }, 
        {
            "source": "published_model_uid = client.repository.get_model_uid(published_model)\nmodel_details = client.repository.get_details(published_model_uid)", 
            "cell_type": "code", 
            "metadata": {}, 
            "outputs": [], 
            "execution_count": null
        }, 
        {
            "source": "## 3.0 Deploy the Keras model", 
            "cell_type": "markdown", 
            "metadata": {}
        }, 
        {
            "source": "client.deployments.list()", 
            "cell_type": "code", 
            "metadata": {}, 
            "outputs": [], 
            "execution_count": null
        }, 
        {
            "source": "To keep your environment clean, just delete all deployments from previous runs", 
            "cell_type": "markdown", 
            "metadata": {}
        }, 
        {
            "source": "client.deployments.delete(\"PASTE_YOUR_GUID_HERE_IF_APPLICABLE\")", 
            "cell_type": "code", 
            "metadata": {}, 
            "outputs": [], 
            "execution_count": null
        }, 
        {
            "source": "created_deployment = client.deployments.create(published_model_uid, name=\"k1_keras_mnist_clt1\")", 
            "cell_type": "code", 
            "metadata": {}, 
            "outputs": [], 
            "execution_count": null
        }, 
        {
            "source": "## Test the model", 
            "cell_type": "markdown", 
            "metadata": {}
        }, 
        {
            "source": "#scoring_endpoint = client.deployments.get_scoring_url(created_deployment)\nscoring_endpoint = created_deployment['entity']['scoring_url']\nprint(scoring_endpoint)", 
            "cell_type": "code", 
            "metadata": {}, 
            "outputs": [], 
            "execution_count": null
        }, 
        {
            "source": "x_score_1 = x_test[23].tolist()\nprint('The answer should be: ',np.argmax(y_test[23]))\nscoring_payload = {'values': [x_score_1]}", 
            "cell_type": "code", 
            "metadata": {}, 
            "outputs": [], 
            "execution_count": null
        }, 
        {
            "source": "predictions = client.deployments.score(scoring_endpoint, scoring_payload)\nprint('And the answer is!... ',predictions['values'][0][1])", 
            "cell_type": "code", 
            "metadata": {}, 
            "outputs": [], 
            "execution_count": null
        }
    ], 
    "metadata": {
        "kernelspec": {
            "display_name": "Python 2.7 with Spark", 
            "name": "python2", 
            "language": "python"
        }, 
        "language_info": {
            "mimetype": "text/x-python", 
            "nbconvert_exporter": "python", 
            "version": "2.7.14", 
            "name": "python", 
            "pygments_lexer": "ipython2", 
            "file_extension": ".py", 
            "codemirror_mode": {
                "version": 2, 
                "name": "ipython"
            }
        }
    }, 
    "nbformat": 4
}