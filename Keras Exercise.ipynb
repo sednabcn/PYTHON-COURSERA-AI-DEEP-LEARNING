{
    "nbformat_minor": 1, 
    "cells": [
        {
            "execution_count": 1, 
            "cell_type": "code", 
            "metadata": {}, 
            "outputs": [
                {
                    "output_type": "stream", 
                    "name": "stderr", 
                    "text": "Using TensorFlow backend.\n"
                }, 
                {
                    "output_type": "stream", 
                    "name": "stdout", 
                    "text": "46 classes\n"
                }
            ], 
            "source": "import numpy as np\nfrom keras.models import Sequential\nfrom keras.layers import Dense, Dropout\nfrom keras.preprocessing.text import Tokenizer\nfrom keras.utils import to_categorical\n\nseed=1337\nnp.random.seed(seed)\n\n# load dataset\nfrom keras.datasets import reuters\n\nmax_words = 1000\n\n(x_train,y_train), (x_test,y_test)=reuters.load_data(num_words=max_words,test_split=0.2,seed=seed)\n\nnum_classes =np.max(y_train)+1\nprint(num_classes, 'classes')\n"
        }, 
        {
            "execution_count": 2, 
            "cell_type": "code", 
            "metadata": {}, 
            "outputs": [
                {
                    "output_type": "stream", 
                    "name": "stdout", 
                    "text": "x_train shape: (8982, 1000)\nx_test shape: (2246, 1000)\n"
                }
            ], 
            "source": "# Vectorizing sequence data\ntokenizer =Tokenizer(num_words=max_words)\nx_train = tokenizer.sequences_to_matrix(x_train, mode='binary')\nx_test = tokenizer.sequences_to_matrix(x_test, mode='binary')\nprint('x_train shape:', x_train.shape)\nprint('x_test shape:', x_test.shape)\n"
        }, 
        {
            "execution_count": 3, 
            "cell_type": "code", 
            "metadata": {
                "scrolled": true
            }, 
            "outputs": [
                {
                    "output_type": "stream", 
                    "name": "stdout", 
                    "text": "y_train shape: (8982, 46)\ny_test shape: (2246, 46)\n"
                }
            ], 
            "source": "# Convert class vector to binary class matrix\ny_train=to_categorical(y_train, num_classes)\ny_test=to_categorical(y_test, num_classes)\nprint('y_train shape:', y_train.shape)\nprint('y_test shape:', y_test.shape)\n"
        }, 
        {
            "execution_count": 4, 
            "cell_type": "code", 
            "metadata": {}, 
            "outputs": [], 
            "source": "# Building keras model\nmodel=Sequential()\nmodel.add(Dense(512,activation='relu',input_shape=(max_words,)))\nmodel.add(Dropout(0.5))\nmodel.add(Dense(num_classes,activation='softmax'))"
        }, 
        {
            "execution_count": 5, 
            "cell_type": "code", 
            "metadata": {}, 
            "outputs": [
                {
                    "output_type": "stream", 
                    "name": "stdout", 
                    "text": "_________________________________________________________________\nLayer (type)                 Output Shape              Param #   \n=================================================================\ndense_1 (Dense)              (None, 512)               512512    \n_________________________________________________________________\ndropout_1 (Dropout)          (None, 512)               0         \n_________________________________________________________________\ndense_2 (Dense)              (None, 46)                23598     \n=================================================================\nTotal params: 536,110\nTrainable params: 536,110\nNon-trainable params: 0\n_________________________________________________________________\n"
                }
            ], 
            "source": "model.summary()"
        }, 
        {
            "execution_count": 6, 
            "cell_type": "code", 
            "metadata": {}, 
            "outputs": [], 
            "source": "# Compiling the keras model\nmodel.compile(loss='categorical_crossentropy',\n              optimizer='adam',\n              metrics=['accuracy'])\n\nfrom keras import backend as K\n\nK.set_session(K.tf.Session(config=K.tf.ConfigProto(intra_op_parallelism_threads=1, inter_op_parallelism_threads=1)))"
        }, 
        {
            "execution_count": 7, 
            "cell_type": "code", 
            "metadata": {
                "scrolled": true
            }, 
            "outputs": [
                {
                    "output_type": "stream", 
                    "name": "stdout", 
                    "text": "Train on 8083 samples, validate on 899 samples\nEpoch 1/3\n8083/8083 [==============================] - 4s 540us/step - loss: 1.4323 - acc: 0.6813 - val_loss: 0.9638 - val_acc: 0.7909\nEpoch 2/3\n8083/8083 [==============================] - 4s 502us/step - loss: 0.7796 - acc: 0.8188 - val_loss: 0.8439 - val_acc: 0.8098\nEpoch 3/3\n8083/8083 [==============================] - 4s 486us/step - loss: 0.5506 - acc: 0.8691 - val_loss: 0.8277 - val_acc: 0.8076\n"
                }
            ], 
            "source": "# Fitting the keras model\nbatch_size=32\nepochs=3\nhistory=model.fit(x_train, y_train,\n                    batch_size=batch_size,\n                    epochs=epochs,\n                    verbose=1,\n                    validation_split=0.1)"
        }, 
        {
            "execution_count": 8, 
            "cell_type": "code", 
            "metadata": {}, 
            "outputs": [
                {
                    "output_type": "stream", 
                    "name": "stdout", 
                    "text": "2246/2246 [==============================] - 0s 103us/step\nscore: 80.0979519198 %\n"
                }
            ], 
            "source": "# Evaluate the keras model\nscore = model.evaluate(x_test, y_test,\n                       batch_size=batch_size, verbose=1)\n\nprint('score:',score[1]*100,'%')\n"
        }, 
        {
            "execution_count": 9, 
            "cell_type": "code", 
            "metadata": {}, 
            "outputs": [], 
            "source": "# Keras model serialisation\n# upload this file to the grader in the next code block\nmodel.save('model.h5')"
        }, 
        {
            "execution_count": 10, 
            "cell_type": "code", 
            "metadata": {}, 
            "outputs": [], 
            "source": "#To upload the exported model to the grader we first need to encode it based64, we are doing this using a shell command:\n!base64 model.h5 > model.h5.base64"
        }, 
        {
            "execution_count": 11, 
            "cell_type": "code", 
            "metadata": {}, 
            "outputs": [
                {
                    "output_type": "stream", 
                    "name": "stdout", 
                    "text": "--2019-07-21 08:04:00--  https://raw.githubusercontent.com/IBM/coursera/master/rklib.py\nResolving raw.githubusercontent.com (raw.githubusercontent.com)... 151.101.16.133\nConnecting to raw.githubusercontent.com (raw.githubusercontent.com)|151.101.16.133|:443... connected.\nHTTP request sent, awaiting response... 200 OK\nLength: 2540 (2.5K) [text/plain]\nSaving to: \u2018rklib.py\u2019\n\n100%[======================================>] 2,540       --.-K/s   in 0s      \n\n2019-07-21 08:04:00 (30.6 MB/s) - \u2018rklib.py\u2019 saved [2540/2540]\n\n"
                }
            ], 
            "source": "#Install a library to submit to Coursera\n!rm -f rklib.py\n!wget https://raw.githubusercontent.com/IBM/coursera/master/rklib.py\n"
        }, 
        {
            "execution_count": 12, 
            "cell_type": "code", 
            "metadata": {}, 
            "outputs": [
                {
                    "output_type": "stream", 
                    "name": "stdout", 
                    "text": "Submission successful, please check on the coursera grader page for the status\n-------------------------\n{\"elements\":[{\"itemId\":\"ozVf2\",\"id\":\"tE4j0qhMEeecqgpT6QjMdA~ozVf2~Go-sx6uOEemYeA79agARxg\",\"courseId\":\"tE4j0qhMEeecqgpT6QjMdA\"}],\"paging\":{},\"linked\":{}}\n-------------------------\n"
                }
            ], 
            "source": "# Getting submision\nfrom rklib import submit\nkey = \"XbAMqtjdEeepUgo7OOVwng\"\npart = \"LqPRQ\"\nemail = \"ruperto.bonet@gmail.com\"\nsecret = \"XDKLnvPEo7wOCAOR\"\n\nwith open('model.h5.base64', 'r') as myfile:\n    data=myfile.read()\nsubmit(email, secret, key, part, [part], data)\n\n "
        }
    ], 
    "metadata": {
        "kernelspec": {
            "display_name": "Python 3.5", 
            "name": "python3", 
            "language": "python"
        }, 
        "language_info": {
            "mimetype": "text/x-python", 
            "nbconvert_exporter": "python", 
            "version": "3.5.5", 
            "name": "python", 
            "file_extension": ".py", 
            "pygments_lexer": "ipython3", 
            "codemirror_mode": {
                "version": 3, 
                "name": "ipython"
            }
        }
    }, 
    "nbformat": 4
}